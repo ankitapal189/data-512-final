{
 "cells": [
  {
   "cell_type": "markdown",
   "metadata": {},
   "source": [
    "# Final Project\n",
    "## Motivation and problem statement: \n",
    "\n",
    "Gender Bias is a topic that has been debated for several years. It is potentially very interesting to study the growth or reduction of gender bias over the years. The best way to quantify this is by exploring various parameters like literacy rate, average wages, employement and educational indicators. It would also be interesting to see if the world average of these parameters follows the same trends as that of US. \n",
    "\n",
    "This will be useful from a human-centered perspective because gender bias has been prevalent in our society since ages. This has given males an advantage over females over the years. But, as women are advancing in various fields, we see the bias diminishing. This project quantifies this decrease/increase in bias and the areas we need to concentrate on to remove this bias\n",
    "\n",
    "## Data selected for analysis: \n",
    "\n",
    "I am planning to use the World Development Indicators(WDI) dataset. I plan to use this because it has a variety of indicators that we can compare to access the stage of males vs females. We can easily apply filters and change the country that we are interested to do analysis on.\n",
    "\n",
    "WDI has various indicators related to education, economy, literacy etc. for various countries of the world from 1960 onwards.\n",
    "\n",
    "Link [WDI dataset](https://datacatalog.worldbank.org/dataset/world-development-indicators)\n",
    "\n",
    "License: [CC-BY 4.0](https://datacatalog.worldbank.org/public-licenses#cc-by)\n",
    "\n",
    "Specify license and/or terms of use for the data\n",
    "Explain why this dataset is a suitable one for addressing your research goal listed above\n",
    "Highlight any possible ethical considerations to using this dataset\n",
    "\n",
    "## Unknowns and dependencies: \n",
    "\n",
    "The absence of data will impact my ability to complete this project by end of this quarter. We notice that the data is very sparse. If we do not get the data for US and the World for the major parameters like - education, literacy, employement etc. then we may have to change the scope to countries for where data is available. \n",
    "Another scenario would be that there is not defined trend in the parameters that indicate the bias. In that case we would have to conclude that there is not general trend of increase/decrease in bias in that particular area."
   ]
  },
  {
   "cell_type": "code",
   "execution_count": null,
   "metadata": {},
   "outputs": [],
   "source": []
  }
 ],
 "metadata": {
  "kernelspec": {
   "display_name": "Python 3",
   "language": "python",
   "name": "python3"
  },
  "language_info": {
   "codemirror_mode": {
    "name": "ipython",
    "version": 3
   },
   "file_extension": ".py",
   "mimetype": "text/x-python",
   "name": "python",
   "nbconvert_exporter": "python",
   "pygments_lexer": "ipython3",
   "version": "3.7.4"
  }
 },
 "nbformat": 4,
 "nbformat_minor": 4
}
